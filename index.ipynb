{
 "cells": [
  {
   "cell_type": "markdown",
   "metadata": {},
   "source": [
    "# Type 1 and Type 2 errors\n",
    "\n",
    "## Introduction\n",
    "\n",
    "In hypothesis testing, we are performing statistic tests to determine whether we believe a statement to be true or false. This initial statement we are testing is called the **null hypothesis** One common example of this is whether we believe two populations to be statistically different from one another. For example, we might be interested in testing if a new website layout is more effective in getting customers to make a purchase. In order to determine this, we would compare statistics, such as the average number of purchases in a given day, before and after the change, in order to determine if the new layout was indeed effective.\n",
    "\n",
    "\n",
    "## Objectives\n",
    "\n",
    "You will be able to:\n",
    "\n",
    "* Explain why alpha = 0.05 is chosen as the cut off point for rejecting Null hypothesis in most scientific experiments\n",
    "* Simulate Type I and Type II errors with alpha control to observe the output of an experiment\n",
    "* Describe and differentiate between TYPE I and TYPE II errors\n",
    "* Understand alpha and beta for representing false positive and false negative values"
   ]
  },
  {
   "cell_type": "markdown",
   "metadata": {},
   "source": [
    "## Alpha and Type 1 Errors\n",
    "\n",
    "When conducting hypothesis testing, we must choose a confidence level, alpha ($\\alpha$) which we will use as the threshold for accepting or rejecting the null hypothesis. This confidence level is also the probability that you reject the null hypothesis when it is actually true. \n",
    "\n",
    "Let's talk about a simple example to make this more understandable. \n",
    "\n",
    "Let's say that we flip a coin 30 times and get a total of 23 heads. The first thought in your head is, is this a fair coin? With that you create the following null hypothesis.\n",
    "\n",
    "**Null Hypothesis:** This coin is fair.\n",
    "\n",
    "The null hypothesis is assumed to be true unless there is overwhelming evidence to the contrary. To quantify this you must determine what level of confidence for which you will reject the null hypothesis. Traditionally, we set **alpha = .05**. This indicates that there is a 5% chance that we may reject the null hypothesis when it is actually true. \n",
    "\n",
    "## Beta (1-alpha) and Type 2 Errors\n",
    "The compliment to this is beta ($\\beta$), the probability that we accept the null hypothesis when it is actually false. These two errors have a direct relation to each other; reducing type 1 errors will increase type 2 errors and vice versa. "
   ]
  },
  {
   "cell_type": "markdown",
   "metadata": {},
   "source": [
    "## Testing an Unfair Coin"
   ]
  },
  {
   "cell_type": "code",
   "execution_count": 1,
   "metadata": {},
   "outputs": [],
   "source": [
    "import numpy as np\n",
    "import scipy"
   ]
  },
  {
   "cell_type": "markdown",
   "metadata": {},
   "source": [
    "Here we'll simulate an unfair coin with 75% chance of heads and 25% chance of tails. We'll then *flip* this coin 20 times and perform a test to determine whether we believe it to be fair or unfair."
   ]
  },
  {
   "cell_type": "code",
   "execution_count": 2,
   "metadata": {},
   "outputs": [
    {
     "data": {
      "text/plain": [
       "17"
      ]
     },
     "execution_count": 2,
     "metadata": {},
     "output_type": "execute_result"
    }
   ],
   "source": [
    "n = 20 #Number of flips\n",
    "p = .75 #We are simulating an unfair coin\n",
    "coin1 = np.random.binomial(n, p)\n",
    "coin1"
   ]
  },
  {
   "cell_type": "markdown",
   "metadata": {},
   "source": [
    "In this case, we know the theoretical mean and standard deviation of a fair coin; it can be modelled by a binomial distribution with p = .5. In future cases, you'll often use a t-test (as you've already previewed) in order to compare samples, but don't know the overall population statistics."
   ]
  },
  {
   "cell_type": "markdown",
   "metadata": {},
   "source": [
    "The variance of a binomial distribution is given by:  \n",
    "\n",
    "$\\sigma = \\sqrt{n \\bullet p \\bullet (1-p)}$"
   ]
  },
  {
   "cell_type": "markdown",
   "metadata": {},
   "source": [
    "So we expect that for a sample of 20 elements, the standard deviation from the expected number of heads (10) for a fair coin should be:"
   ]
  },
  {
   "cell_type": "code",
   "execution_count": 3,
   "metadata": {},
   "outputs": [
    {
     "data": {
      "text/plain": [
       "2.23606797749979"
      ]
     },
     "execution_count": 3,
     "metadata": {},
     "output_type": "execute_result"
    }
   ],
   "source": [
    "sigma = np.sqrt(n*.5*(1-.5))\n",
    "sigma"
   ]
  },
  {
   "cell_type": "markdown",
   "metadata": {},
   "source": [
    "And with that we can now calculate a p-value using a traditional z-test:\n",
    "\n",
    "$ z = \\frac{\\bar{x}-\\mu}{\\sigma/\\sqrt{n}}$\n",
    "\n",
    "Here, $\\bar{x}$ is the number of heads, $\\mu$ (mu) is the expected number of heads (10), $\\sigma$ (sigma) is our standard deviation (calculated above) and n is the number of observations (20)."
   ]
  },
  {
   "cell_type": "code",
   "execution_count": 4,
   "metadata": {},
   "outputs": [
    {
     "data": {
      "text/plain": [
       "14.0"
      ]
     },
     "execution_count": 4,
     "metadata": {},
     "output_type": "execute_result"
    }
   ],
   "source": [
    "z = (coin1 - 10) / (sigma / np.sqrt(n))\n",
    "z"
   ]
  },
  {
   "cell_type": "code",
   "execution_count": 5,
   "metadata": {},
   "outputs": [
    {
     "data": {
      "text/plain": [
       "14.0"
      ]
     },
     "execution_count": 5,
     "metadata": {},
     "output_type": "execute_result"
    }
   ],
   "source": [
    "z = (coin1 - 10) / (sigma / np.sqrt(n))\n",
    "z"
   ]
  },
  {
   "cell_type": "markdown",
   "metadata": {},
   "source": [
    "Finally, we take our z-score and apply standard lookup tables based on our knowledge of the normal distribution to determine the probability "
   ]
  },
  {
   "cell_type": "code",
   "execution_count": 6,
   "metadata": {},
   "outputs": [],
   "source": [
    "import scipy.stats as st"
   ]
  },
  {
   "cell_type": "code",
   "execution_count": 7,
   "metadata": {},
   "outputs": [
    {
     "data": {
      "text/plain": [
       "1.0"
      ]
     },
     "execution_count": 7,
     "metadata": {},
     "output_type": "execute_result"
    }
   ],
   "source": [
    "st.norm.cdf(np.abs(z))"
   ]
  },
  {
   "cell_type": "markdown",
   "metadata": {},
   "source": [
    "Thus, we will reject our null hypothesis *this coin is fair* and conclude that the coin is unfair!"
   ]
  },
  {
   "cell_type": "code",
   "execution_count": 9,
   "metadata": {},
   "outputs": [],
   "source": [
    "import matplotlib.pyplot as plt\n",
    "import seaborn as sns\n",
    "sns.set_style('darkgrid')\n",
    "%matplotlib inline"
   ]
  },
  {
   "cell_type": "code",
   "execution_count": 10,
   "metadata": {},
   "outputs": [
    {
     "data": {
      "text/plain": [
       "Text(0.5, 0, 'Number of Coin Flips')"
      ]
     },
     "execution_count": 10,
     "metadata": {},
     "output_type": "execute_result"
    },
    {
     "data": {
      "image/png": "[encoded data removed]",
      "text/plain": [
       "<Figure size 432x288 with 1 Axes>"
      ]
     },
     "metadata": {
      "needs_background": "light"
     },
     "output_type": "display_data"
    }
   ],
   "source": [
    "#How many times would we have to flip a 75% heads coin to determine it was false?\n",
    "p_vals = []\n",
    "#Iterate through various numbers of trials\n",
    "for n in range(1,50):\n",
    "    #Do multiple runs for that number of samples to compare\n",
    "    p_val = []\n",
    "    for i in range(200):\n",
    "        p = .75 #We are simulating an unfair coin\n",
    "        n_heads = np.random.binomial(n, p)\n",
    "        mu = n / 2\n",
    "        sigma = np.sqrt(n*.5*(1-.5))\n",
    "        z  = (n_heads - mu) / (sigma / np.sqrt(n))\n",
    "        p_val.append(st.norm.cdf(np.abs(z)))\n",
    "    p_vals.append(np.mean(p_val))\n",
    "plt.plot(list(range(1,50)), p_vals)\n",
    "plt.title('Average P-Values Associated with Hypothesis Testing of a .75 Unfair Coin by Number of Trials')\n",
    "plt.ylabel('Average P-Value of Simulations')\n",
    "plt.xlabel('Number of Coin Flips')"
   ]
  },
  {
   "cell_type": "markdown",
   "metadata": {},
   "source": [
    "## Summary\n",
    "\n",
    "Great! You now know what type 1 and type 2 errors are. Let's go and practice your knowledge!"
   ]
  }
 ],
 "metadata": {
  "kernelspec": {
   "display_name": "Python 3",
   "language": "python",
   "name": "python3"
  },
  "language_info": {
   "codemirror_mode": {
    "name": "ipython",
    "version": 3
   },
   "file_extension": ".py",
   "mimetype": "text/x-python",
   "name": "python",
   "nbconvert_exporter": "python",
   "pygments_lexer": "ipython3",
   "version": "3.6.6"
  }
 },
 "nbformat": 4,
 "nbformat_minor": 2
}
